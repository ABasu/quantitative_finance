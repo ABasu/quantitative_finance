{
 "cells": [
  {
   "cell_type": "code",
   "execution_count": 2,
   "metadata": {},
   "outputs": [],
   "source": [
    "# Note names mapped from note numbers.\n",
    "# Double sharps and flats are noted only when they appear \n",
    "# in a scale. They are not included in the notes_str_int \n",
    "# dictionary.\n",
    "notes_int_str = {1: ['C', 'B#', 'Dbb'], \\\n",
    "         2: ['C#', 'Db'], \\\n",
    "         3: ['D', 'C##', 'Ebb'], \\\n",
    "         4: ['D#', 'Eb'], \\\n",
    "         5: ['E', 'Fb', 'D##'], \\\n",
    "         6: ['F', 'E#'], \\\n",
    "         7: ['F#', 'Gb'], \\\n",
    "         8: ['G', 'F##', 'Abb'], \\\n",
    "         9: ['G#', 'Ab'], \\\n",
    "         10:['A', 'G##', 'Bbb'], \\\n",
    "         11:['A#', 'Bb'], \\\n",
    "         12:['B', 'Cb', 'A##']}\n",
    "# String to integer key mapping of notes - automatically\n",
    "# generated from notes_int_str\n",
    "notes_str_int = {k:n for n in notes_int_str for k in notes_int_str[n] if len(k)<=2}\n",
    "# Order of keys in scales\n",
    "scales = {'major': [1,3,5,6,8,10,12], 'minor': [1,3,4,6,8,9,11]}\n",
    "# Order of keys in chords\n",
    "chords = {'major': [1, 3, 5], 'minor': [1, 3, 5]}"
   ]
  },
  {
   "cell_type": "code",
   "execution_count": 3,
   "metadata": {},
   "outputs": [],
   "source": [
    "def get_note_number(notes):\n",
    "    \"\"\"\n",
    "    Takes a string note representation and returns an int. \n",
    "    Accepts either single notes or a list of notes.\n",
    "    \n",
    "    notes: string or list of strings\n",
    "    \"\"\"\n",
    "    if isinstance(notes, str):\n",
    "        notes = notes_str_int[notes]\n",
    "    elif isinstance(notes, list):\n",
    "        notes = [notes_str_int[n] if isinstance(n, str) else n for n in notes]\n",
    "    return notes\n",
    "\n",
    "def get_note_letter(notes, style='main', tonic=None, scale='major'):\n",
    "    \"\"\"\n",
    "    Receives a list of integers (or a single integer) and \n",
    "    converts it into a sequence of letter notes.\n",
    "    \n",
    "    notes: int or list of ints\n",
    "    style: str. 'main'/'all'/'scale' \n",
    "        'main' is the default and returns the main representation\n",
    "        of the note - i.e. C# instead of Db.\n",
    "        'all' combines all possible ways to write a note separated \n",
    "        by slashes. i.e. 'C#/Db'\n",
    "        'scale' figures out the appropriate note representations \n",
    "        given a scale. What scale it is can either be supplied as \n",
    "        the tonic or the default is the first note of the series.\n",
    "        tonic: int or str. The tonic for the key. If int is supplied\n",
    "        then the main representation of the note is taken to be the \n",
    "        key. Similarly if none is supplied, the main representation\n",
    "        of the first note is used.\n",
    "    \"\"\"\n",
    "    # Keep track of what datatype to return\n",
    "    type_given = list\n",
    "    if isinstance(notes, int):\n",
    "        type_given = int\n",
    "        notes = [notes]\n",
    "        \n",
    "    notes_letters = []\n",
    "    for i, note in enumerate(notes):\n",
    "        if style == 'all':\n",
    "            notes_letters.append('/'.join(notes_int_str[note]))\n",
    "        elif style == 'main':\n",
    "            notes_letters.append(notes_int_str[note][0])\n",
    "        elif style == 'scale':\n",
    "            if tonic == None:\n",
    "                tonic = get_note_letter(notes[0], style='main')\n",
    "            if i == 0 or i == len(notes) - 1:\n",
    "                tonic = tonic if isinstance(tonic, str) else get_note_letter(tonic)\n",
    "                notes_letters.append(tonic)\n",
    "            else:\n",
    "                target_letter = chr(ord(tonic[0][0])+i)\n",
    "                target_letter = chr(ord(target_letter)-7) if ord(target_letter) > ord('G') else target_letter\n",
    "                for n in notes_int_str[note]:\n",
    "                    if n[0] == target_letter:\n",
    "                        notes_letters.append(n)   \n",
    "    if style == 'chord':\n",
    "        if tonic == None:\n",
    "            tonic = get_note_letter(notes[0], style='main')\n",
    "        tonic = tonic if isinstance(tonic, str) else get_note_letter(tonic)\n",
    "        scale_notes_ints = get_scale(tonic, scale=scale)\n",
    "        scale_notes = get_note_letter(scale_notes_ints, style='scale', tonic=tonic, scale=scale)\n",
    "        notes_letters = [scale_notes[i] for i, n in enumerate(scale_notes_ints[:-1]) if n in notes]\n",
    "            \n",
    "    if type_given == int:\n",
    "        notes_letters = notes_letters[0]\n",
    "    return notes_letters\n",
    "\n",
    "def get_scale(start_note, scale='major'):\n",
    "    \"\"\"\n",
    "    Takes a start note (either integer or string) and returns \n",
    "    notes in the scale as list of integers.\n",
    "    \"\"\"\n",
    "    start_note = get_note_number(start_note)\n",
    "    scale_notes = [n+start_note-1 if n+start_note-1 <= 12 else (n+start_note-1) % 12 \\\n",
    "                   for i, n in enumerate(notes_int_str) if i+1 in scales[scale]]\n",
    "    return scale_notes + [start_note]\n",
    "\n",
    "def get_chord(start_note, scale='major'):\n",
    "    \"\"\"\n",
    "    Takes a start note (either integer or string) and returns \n",
    "    notes in the chord and scale as list of integers.\n",
    "    \"\"\"\n",
    "    start_note = get_note_number(start_note)\n",
    "    scale_notes = get_scale(start_note=start_note, scale=scale)\n",
    "    chord_notes = [n for i, n in enumerate(scale_notes) if i+1 in chords[scale]]\n",
    "    return chord_notes\n",
    "\n",
    "def get_subsets(scale, chords):\n",
    "    \"\"\"\n",
    "    Takes a list and a dictionary: the first is a list of integers. \n",
    "    The second with a set of keys, each attached to a set of integers. \n",
    "    Returns a list of chords that are a subset of scale.\n",
    "    \"\"\"\n",
    "    subset = []\n",
    "    for chord in chords:\n",
    "        if all(n in scale for n in chords[chord]):\n",
    "            subset.append(chord)\n",
    "    return subset"
   ]
  },
  {
   "cell_type": "markdown",
   "metadata": {},
   "source": [
    "### The _major_ scales\n",
    "\n",
    "The major scales have FFHFFFH (full/half) pattern of intervals. By convention, each note of a scale is written as a different letter in the ABCD... sequence. So instead of, say, C, C# - we would write C, Db. Certain scales are 'enharmonic' - i.e. they have the same notes, just written differently."
   ]
  },
  {
   "cell_type": "code",
   "execution_count": 4,
   "metadata": {},
   "outputs": [
    {
     "data": {
      "text/markdown": [
       "__The Major Scales:__ (Enharmonic scale in brackets)"
      ],
      "text/plain": [
       "<IPython.core.display.Markdown object>"
      ]
     },
     "metadata": {},
     "output_type": "display_data"
    },
    {
     "data": {
      "text/markdown": [
       "##### The Major Scales:"
      ],
      "text/plain": [
       "<IPython.core.display.Markdown object>"
      ]
     },
     "metadata": {},
     "output_type": "display_data"
    },
    {
     "name": "stdout",
     "output_type": "stream",
     "text": [
      "C       :  C    D    E    F    G    A    B    C   \n",
      "B# (C)  :  B#   C##  D##  E#   F##  G##  A##  B#  \n",
      "C#      :  C#   D#   E#   F#   G#   A#   B#   C#  \n",
      "Db (C#) :  Db   Eb   F    Gb   Ab   Bb   C    Db  \n",
      "D       :  D    E    F#   G    A    B    C#   D   \n",
      "D#      :  D#   E#   F##  G#   A#   B#   C##  D#  \n",
      "Eb (D#) :  Eb   F    G    Ab   Bb   C    D    Eb  \n",
      "E       :  E    F#   G#   A    B    C#   D#   E   \n",
      "Fb (E)  :  Fb   Gb   Ab   Bbb  Cb   Db   Eb   Fb  \n",
      "F       :  F    G    A    Bb   C    D    E    F   \n",
      "E# (F)  :  E#   F##  G##  A#   B#   C##  D##  E#  \n",
      "F#      :  F#   G#   A#   B    C#   D#   E#   F#  \n",
      "Gb (F#) :  Gb   Ab   Bb   Cb   Db   Eb   F    Gb  \n",
      "G       :  G    A    B    C    D    E    F#   G   \n",
      "G#      :  G#   A#   B#   C#   D#   E#   F##  G#  \n",
      "Ab (G#) :  Ab   Bb   C    Db   Eb   F    G    Ab  \n",
      "A       :  A    B    C#   D    E    F#   G#   A   \n",
      "A#      :  A#   B#   C##  D#   E#   F##  G##  A#  \n",
      "Bb (A#) :  Bb   C    D    Eb   F    G    A    Bb  \n",
      "B       :  B    C#   D#   E    F#   G#   A#   B   \n",
      "Cb (B)  :  Cb   Db   Eb   Fb   Gb   Ab   Bb   Cb  \n"
     ]
    }
   ],
   "source": [
    "from IPython.display import Markdown, display\n",
    "\n",
    "display(Markdown(\"__The Major Scales:__ (Enharmonic scale in brackets)\"))\n",
    "display(Markdown(\"##### The Major Scales:\"))\n",
    "\n",
    "format_string = ('{:<4s} '*8).strip()\n",
    "for note in notes_int_str:\n",
    "    scale = get_scale(note)\n",
    "    for tonic in [t for t in notes_int_str[note] if len(t)<=2]:\n",
    "        scale_notes = get_note_letter(scale, style='scale', tonic=tonic)\n",
    "        print('{:2s} {:<5s}:  '\\\n",
    "              .format(tonic, '{}'.format(\"(\" + notes_int_str[note][0] +\")\") if notes_int_str[note][0] != tonic else ''), end='') \n",
    "        print(format_string.format(*scale_notes))"
   ]
  },
  {
   "cell_type": "markdown",
   "metadata": {},
   "source": [
    "### The _minor_ scales\n",
    "\n",
    "* The minor scales have FHFFHFF (full/half) pattern of intervals.\n",
    "* To convert a major scale to a minor, lower the 3rd, 6th and 7th notes by half a note. \n",
    "* Starting at the 6th note of a major scale produces its _relative minor_. C major's relative minor is A minor."
   ]
  },
  {
   "cell_type": "code",
   "execution_count": 5,
   "metadata": {},
   "outputs": [
    {
     "data": {
      "text/markdown": [
       "__The Minor Scales:__ (Enharmonic scale in brackets)"
      ],
      "text/plain": [
       "<IPython.core.display.Markdown object>"
      ]
     },
     "metadata": {},
     "output_type": "display_data"
    },
    {
     "name": "stdout",
     "output_type": "stream",
     "text": [
      "C       :  C    D    Eb   F    G    Ab   Bb   C   \n",
      "B# (C)  :  B#   C##  D#   E#   F##  G#   A#   B#  \n",
      "C#      :  C#   D#   E    F#   G#   A    B    C#  \n",
      "Db (C#) :  Db   Eb   Fb   Gb   Ab   Bbb  Cb   Db  \n",
      "D       :  D    E    F    G    A    Bb   C    D   \n",
      "D#      :  D#   E#   F#   G#   A#   B    C#   D#  \n",
      "Eb (D#) :  Eb   F    Gb   Ab   Bb   Cb   Db   Eb  \n",
      "E       :  E    F#   G    A    B    C    D    E   \n",
      "Fb (E)  :  Fb   Gb   Abb  Bbb  Cb   Dbb  Ebb  Fb  \n",
      "F       :  F    G    Ab   Bb   C    Db   Eb   F   \n",
      "E# (F)  :  E#   F##  G#   A#   B#   C#   D#   E#  \n",
      "F#      :  F#   G#   A    B    C#   D    E    F#  \n",
      "Gb (F#) :  Gb   Ab   Bbb  Cb   Db   Ebb  Fb   Gb  \n",
      "G       :  G    A    Bb   C    D    Eb   F    G   \n",
      "G#      :  G#   A#   B    C#   D#   E    F#   G#  \n",
      "Ab (G#) :  Ab   Bb   Cb   Db   Eb   Fb   Gb   Ab  \n",
      "A       :  A    B    C    D    E    F    G    A   \n",
      "A#      :  A#   B#   C#   D#   E#   F#   G#   A#  \n",
      "Bb (A#) :  Bb   C    Db   Eb   F    Gb   Ab   Bb  \n",
      "B       :  B    C#   D    E    F#   G    A    B   \n",
      "Cb (B)  :  Cb   Db   Ebb  Fb   Gb   Abb  Bbb  Cb  \n"
     ]
    }
   ],
   "source": [
    "display(Markdown(\"__The Minor Scales:__ (Enharmonic scale in brackets)\"))\n",
    "\n",
    "format_string = ('{:<4s} '*8).strip()\n",
    "for note in notes_int_str:\n",
    "    scale = get_scale(note, scale='minor')\n",
    "    for tonic in [t for t in notes_int_str[note] if len(t)<=2]:\n",
    "        scale_notes = get_note_letter(scale, style='scale', tonic=tonic)\n",
    "        print('{:2s} {:<5s}:  '\\\n",
    "              .format(tonic, '{}'.format(\"(\" + notes_int_str[note][0] +\")\") if notes_int_str[note][0] != tonic else ''), end='') \n",
    "        print(format_string.format(*scale_notes))"
   ]
  },
  {
   "cell_type": "markdown",
   "metadata": {},
   "source": [
    "### The _major_ chords"
   ]
  },
  {
   "cell_type": "code",
   "execution_count": 6,
   "metadata": {},
   "outputs": [
    {
     "data": {
      "text/markdown": [
       "__The Major Chords__"
      ],
      "text/plain": [
       "<IPython.core.display.Markdown object>"
      ]
     },
     "metadata": {},
     "output_type": "display_data"
    },
    {
     "name": "stdout",
     "output_type": "stream",
     "text": [
      "C : C   E   G  \n",
      "C#: C#  E#  G# \n",
      "D : D   F#  A  \n",
      "D#: D#  F## A# \n",
      "E : E   G#  B  \n",
      "F : F   A   C  \n",
      "F#: F#  A#  C# \n",
      "G : G   B   D  \n",
      "G#: G#  B#  D# \n",
      "A : A   C#  E  \n",
      "A#: A#  C## E# \n",
      "B : B   D#  F# \n"
     ]
    }
   ],
   "source": [
    "display(Markdown(\"__The Major Chords__\"))\n",
    "\n",
    "format_string = ('{:<4s} '*8).strip()\n",
    "for note in notes_int_str:\n",
    "    chord = get_chord(note, scale='major')\n",
    "    chord_notes = get_note_letter(chord, style='chord')\n",
    "    print('{:2s}: {:3s} {:3s} {:3s}'.format(get_note_letter(note), *chord_notes))"
   ]
  },
  {
   "cell_type": "markdown",
   "metadata": {},
   "source": [
    "### The _minor_ chords"
   ]
  },
  {
   "cell_type": "code",
   "execution_count": 7,
   "metadata": {},
   "outputs": [
    {
     "data": {
      "text/markdown": [
       "__The Minor Chords__"
      ],
      "text/plain": [
       "<IPython.core.display.Markdown object>"
      ]
     },
     "metadata": {},
     "output_type": "display_data"
    },
    {
     "name": "stdout",
     "output_type": "stream",
     "text": [
      "C : C   Eb  G  \n",
      "C#: C#  E   G# \n",
      "D : D   F   A  \n",
      "D#: D#  F#  A# \n",
      "E : E   G   B  \n",
      "F : F   Ab  C  \n",
      "F#: F#  A   C# \n",
      "G : G   Bb  D  \n",
      "G#: G#  B   D# \n",
      "A : A   C   E  \n",
      "A#: A#  C#  E# \n",
      "B : B   D   F# \n"
     ]
    }
   ],
   "source": [
    "display(Markdown(\"__The Minor Chords__\"))\n",
    "\n",
    "format_string = ('{:<4s} '*8).strip()\n",
    "for note in notes_int_str:\n",
    "    chord = get_chord(note, scale='minor')\n",
    "    chord_notes = get_note_letter(chord, style='chord', scale='minor')\n",
    "    print('{:2s}: {:3s} {:3s} {:3s}'.format(get_note_letter(note), *chord_notes))"
   ]
  },
  {
   "cell_type": "code",
   "execution_count": 8,
   "metadata": {},
   "outputs": [
    {
     "name": "stdout",
     "output_type": "stream",
     "text": [
      "C major : C, Dm, Em, F, G, Am\n",
      "C# major: C#, D#m, Fm, F#, G#, A#m\n",
      "D major : D, Em, F#m, G, A, Bm\n",
      "D# major: Cm, D#, Fm, Gm, G#, A#\n",
      "E major : C#m, E, F#m, G#m, A, B\n",
      "F major : C, Dm, F, Gm, Am, A#\n",
      "F# major: C#, D#m, F#, G#m, A#m, B\n",
      "G major : C, D, Em, G, Am, Bm\n",
      "G# major: Cm, C#, D#, Fm, G#, A#m\n",
      "A major : C#m, D, E, F#m, A, Bm\n",
      "A# major: Cm, Dm, D#, F, Gm, A#\n",
      "B major : C#m, D#m, E, F#, G#m, B\n",
      "C minor : Cm, D#, Fm, Gm, G#, A#\n",
      "C# minor: C#m, E, F#m, G#m, A, B\n",
      "D minor : C, Dm, F, Gm, Am, A#\n",
      "D# minor: C#, D#m, F#, G#m, A#m, B\n",
      "E minor : C, D, Em, G, Am, Bm\n",
      "F minor : Cm, C#, D#, Fm, G#, A#m\n",
      "F# minor: C#m, D, E, F#m, A, Bm\n",
      "G minor : Cm, Dm, D#, F, Gm, A#\n",
      "G# minor: C#m, D#m, E, F#, G#m, B\n",
      "A minor : C, Dm, Em, F, G, Am\n",
      "A# minor: C#, D#m, Fm, F#, G#, A#m\n",
      "B minor : D, Em, F#m, G, A, Bm\n"
     ]
    }
   ],
   "source": [
    "chord_list = {}\n",
    "scales_list = ['major', 'minor']\n",
    "for note in notes_int_str:\n",
    "    for s in scales_list:\n",
    "        chord = get_chord(note, scale=s)\n",
    "        chord_list[get_note_letter(note) + ('m' if s=='minor' else '')] = chord\n",
    "\n",
    "for s in scales_list:\n",
    "    for note in notes_int_str:\n",
    "        csets=get_subsets(get_scale(note, scale=s), chord_list)\n",
    "        print('{:<8s}: {}'.format(get_note_letter(note) + ' ' + s, ', '.join(csets)))"
   ]
  },
  {
   "cell_type": "code",
   "execution_count": 9,
   "metadata": {},
   "outputs": [],
   "source": [
    "def get_fretboard_for_chord(chord_notes, strings, nfrets=12):\n",
    "    chord_notes = get_note_number(chord_notes)\n",
    "    strings = get_note_number(strings)\n",
    "    fretboard = []\n",
    "    for f in range(nfrets):\n",
    "        fret = [(n+f)%12 if (n+f)!=12 else 12 for n in strings]\n",
    "        fret = [n if n in chord_notes else None for n in fret]\n",
    "        fretboard.append(fret)\n",
    "    return fretboard\n",
    "\n",
    "def print_fretboard(fretboard):\n",
    "    for s in range(len(fretboard[0])):\n",
    "        for f in range(len(fretboard), 1, -1):\n",
    "            print('{}{:-^5s}'.format('|', get_note_letter(fretboard[f-1][s]) if fretboard[f-1][s]!=None else ''), end='')\n",
    "        print('||{}'.format('' if fretboard[0][s]==None else get_note_letter(fretboard[0][s])), end='')\n",
    "        print('')\n",
    "    print()"
   ]
  },
  {
   "cell_type": "code",
   "execution_count": 12,
   "metadata": {},
   "outputs": [
    {
     "data": {
      "text/markdown": [
       "_D major on Guitar (standard tuning)_"
      ],
      "text/plain": [
       "<IPython.core.display.Markdown object>"
      ]
     },
     "metadata": {},
     "output_type": "display_data"
    },
    {
     "name": "stdout",
     "output_type": "stream",
     "text": [
      "|-----|-----|-----|-----|--B--|-----|-----|-----|--G--|-----|-----||E\n",
      "|-----|--G--|-----|-----|--E--|-----|-----|-----|-----|--B--|-----||\n",
      "|-----|-----|--B--|-----|-----|-----|--G--|-----|-----|--E--|-----||\n",
      "|-----|-----|--E--|-----|-----|-----|-----|--B--|-----|-----|-----||G\n",
      "|-----|-----|-----|--G--|-----|-----|--E--|-----|-----|-----|-----||B\n",
      "|-----|-----|-----|-----|--B--|-----|-----|-----|--G--|-----|-----||E\n",
      "\n"
     ]
    },
    {
     "data": {
      "text/markdown": [
       "_D major on Ukulele (standard tuning)_"
      ],
      "text/plain": [
       "<IPython.core.display.Markdown object>"
      ]
     },
     "metadata": {},
     "output_type": "display_data"
    },
    {
     "name": "stdout",
     "output_type": "stream",
     "text": [
      "|-----|--F--|-----|-----|-----|-C#--|-----|-----|-----|-----|-G#--||\n",
      "|-----|-----|-----|-G#--|-----|-----|--F--|-----|-----|-----|-C#--||\n",
      "|-----|-----|-C#--|-----|-----|-----|-----|-G#--|-----|-----|--F--||\n",
      "|-G#--|-----|-----|--F--|-----|-----|-----|-C#--|-----|-----|-----||\n",
      "\n"
     ]
    },
    {
     "data": {
      "text/markdown": [
       "_D major on Guitar (perfect 4ths tuning)_"
      ],
      "text/plain": [
       "<IPython.core.display.Markdown object>"
      ]
     },
     "metadata": {},
     "output_type": "display_data"
    },
    {
     "name": "stdout",
     "output_type": "stream",
     "text": [
      "|-----|--D--|-----|-----|-----|-----|--A--|-----|-----|-F#--|-----||\n",
      "|-----|-----|-F#--|-----|-----|-----|--D--|-----|-----|-----|-----||A\n",
      "|-----|-----|-----|-----|--A--|-----|-----|-F#--|-----|-----|-----||D\n",
      "|-F#--|-----|-----|-----|--D--|-----|-----|-----|-----|--A--|-----||\n",
      "|-----|-----|--A--|-----|-----|-F#--|-----|-----|-----|--D--|-----||\n",
      "|-----|-----|--D--|-----|-----|-----|-----|--A--|-----|-----|-F#--||\n",
      "\n"
     ]
    },
    {
     "data": {
      "text/markdown": [
       "_D major on any 4 string instrument tuned F#, B, E, A_"
      ],
      "text/plain": [
       "<IPython.core.display.Markdown object>"
      ]
     },
     "metadata": {},
     "output_type": "display_data"
    },
    {
     "name": "stdout",
     "output_type": "stream",
     "text": [
      "|-----|-----|-----|--D--|-----|-----|-----|-----|--A--|-----|-----||F#\n",
      "|-----|--A--|-----|-----|-F#--|-----|-----|-----|--D--|-----|-----||\n",
      "|-----|--D--|-----|-----|-----|-----|--A--|-----|-----|-F#--|-----||\n",
      "|-----|-----|-F#--|-----|-----|-----|--D--|-----|-----|-----|-----||A\n",
      "\n"
     ]
    }
   ],
   "source": [
    "fb = get_fretboard_for_chord(get_chord('E', scale='minor'), ['E', 'A','D', 'G', 'B', 'E'])\n",
    "display(Markdown(\"_D major on Guitar (standard tuning)_\"))\n",
    "print_fretboard(fb)\n",
    "\n",
    "fb = get_fretboard_for_chord(get_chord('C#'), ['G', 'C', 'E', 'A'])\n",
    "display(Markdown(\"_D major on Ukulele (standard tuning)_\"))\n",
    "print_fretboard(fb)\n",
    "\n",
    "fb = get_fretboard_for_chord(get_chord('D'), ['E', 'A','D', 'G', 'C', 'F'])\n",
    "display(Markdown(\"_D major on Guitar (perfect 4ths tuning)_\"))\n",
    "print_fretboard(fb)\n",
    "\n",
    "fb = get_fretboard_for_chord(get_chord('D'), ['F#', 'B', 'E', 'A'])\n",
    "display(Markdown(\"_D major on any 4 string instrument tuned F#, B, E, A_\"))\n",
    "print_fretboard(fb)"
   ]
  },
  {
   "cell_type": "code",
   "execution_count": null,
   "metadata": {},
   "outputs": [],
   "source": []
  },
  {
   "cell_type": "code",
   "execution_count": 594,
   "metadata": {},
   "outputs": [
    {
     "data": {
      "text/plain": [
       "[[None, None, None, None, None, 10],\n",
       " [None, 10, 3, None, None, None],\n",
       " [None, None, None, 10, None, None],\n",
       " [7, None, None, None, 3, None],\n",
       " [None, None, None, None, None, None],\n",
       " [None, None, 7, None, None, 3],\n",
       " [10, 3, None, None, None, None],\n",
       " [None, None, None, 3, 7, None],\n",
       " [None, None, 10, None, None, None],\n",
       " [None, None, None, None, None, 7],\n",
       " [None, 7, None, None, 10, None],\n",
       " [3, None, None, 7, None, None]]"
      ]
     },
     "execution_count": 594,
     "metadata": {},
     "output_type": "execute_result"
    }
   ],
   "source": [
    "get_fretboard_for_chord(get_chord('D'), ['Eb', 'Ab', 'Db', 'G', 'B', 'A'])"
   ]
  },
  {
   "cell_type": "code",
   "execution_count": 517,
   "metadata": {},
   "outputs": [
    {
     "data": {
      "text/plain": [
       "[11, 10, 9, 8, 7, 6, 5, 4, 3, 2, 1, 0]"
      ]
     },
     "execution_count": 517,
     "metadata": {},
     "output_type": "execute_result"
    }
   ],
   "source": [
    "list(range(11,-1,-1))"
   ]
  },
  {
   "cell_type": "code",
   "execution_count": null,
   "metadata": {},
   "outputs": [],
   "source": []
  }
 ],
 "metadata": {
  "kernelspec": {
   "display_name": "Python 3",
   "language": "python",
   "name": "python3"
  },
  "language_info": {
   "codemirror_mode": {
    "name": "ipython",
    "version": 3
   },
   "file_extension": ".py",
   "mimetype": "text/x-python",
   "name": "python",
   "nbconvert_exporter": "python",
   "pygments_lexer": "ipython3",
   "version": "3.9.1"
  }
 },
 "nbformat": 4,
 "nbformat_minor": 4
}
