{
 "cells": [
  {
   "cell_type": "code",
   "execution_count": 2,
   "id": "8c74fd11",
   "metadata": {},
   "outputs": [],
   "source": [
    "import matplotlib.pyplot as plt \n",
    "import pandas as pd\n",
    "from sklearn.preprocessing import normalize\n",
    "from sklearn.decomposition import PCA"
   ]
  },
  {
   "cell_type": "code",
   "execution_count": 7,
   "id": "6e9df306",
   "metadata": {},
   "outputs": [],
   "source": [
    "# Set parameters\n",
    "data_file = '/Users/anupam/Desktop/AB/DH/quantitative_finance/data/fundamentals.nse/2023-09-01-multigroup.csv'\n",
    "cols_to_drop = ['Stock Name','BSE code','ISIN','Current Price Rs','Industry Net Profit Growth Annual YoY %','50Day EMA Rs',\\\n",
    "                '200Day EMA Rs','10Yr High Rs']"
   ]
  },
  {
   "cell_type": "code",
   "execution_count": 8,
   "id": "9943d02a",
   "metadata": {},
   "outputs": [
    {
     "data": {
      "text/html": [
       "<div>\n",
       "<style scoped>\n",
       "    .dataframe tbody tr th:only-of-type {\n",
       "        vertical-align: middle;\n",
       "    }\n",
       "\n",
       "    .dataframe tbody tr th {\n",
       "        vertical-align: top;\n",
       "    }\n",
       "\n",
       "    .dataframe thead th {\n",
       "        text-align: right;\n",
       "    }\n",
       "</style>\n",
       "<table border=\"1\" class=\"dataframe\">\n",
       "  <thead>\n",
       "    <tr style=\"text-align: right;\">\n",
       "      <th></th>\n",
       "      <th>NSE code</th>\n",
       "      <th>Industry Name</th>\n",
       "      <th>PEG TTM PE to Growth</th>\n",
       "      <th>Net Profit Margin Annual %</th>\n",
       "      <th>Operating Profit Margin Annual %</th>\n",
       "      <th>Net Profit Annual YoY Growth %</th>\n",
       "      <th>Revenue Growth Annual YoY %</th>\n",
       "      <th>10Yr price change %</th>\n",
       "      <th>Industry PE TTM</th>\n",
       "      <th>Long Term Debt To Equity Annual</th>\n",
       "      <th>ROCE Annual 1Yr Ago %</th>\n",
       "      <th>ROCE Annual %</th>\n",
       "      <th>Market Capitalization in Cr</th>\n",
       "      <th>MACD</th>\n",
       "      <th>% Distance from 52week high</th>\n",
       "      <th>Previous Day RSI</th>\n",
       "      <th>RSI</th>\n",
       "    </tr>\n",
       "  </thead>\n",
       "  <tbody>\n",
       "    <tr>\n",
       "      <th>0</th>\n",
       "      <td>360ONE</td>\n",
       "      <td>Other Financial Services</td>\n",
       "      <td>2.3</td>\n",
       "      <td>33.3</td>\n",
       "      <td>58.5</td>\n",
       "      <td>13.9</td>\n",
       "      <td>-0.7</td>\n",
       "      <td>0.0</td>\n",
       "      <td>27.7</td>\n",
       "      <td>2.1</td>\n",
       "      <td>12.6</td>\n",
       "      <td>12.8</td>\n",
       "      <td>17064.4</td>\n",
       "      <td>0.6</td>\n",
       "      <td>12.4</td>\n",
       "      <td>49.3</td>\n",
       "      <td>37.0</td>\n",
       "    </tr>\n",
       "    <tr>\n",
       "      <th>1</th>\n",
       "      <td>3IINFOLTD</td>\n",
       "      <td>IT Consulting &amp; Software</td>\n",
       "      <td>-0.6</td>\n",
       "      <td>0.2</td>\n",
       "      <td>4.4</td>\n",
       "      <td>102.4</td>\n",
       "      <td>6.8</td>\n",
       "      <td>720.0</td>\n",
       "      <td>36.4</td>\n",
       "      <td>0.0</td>\n",
       "      <td>-2.9</td>\n",
       "      <td>2.6</td>\n",
       "      <td>552.6</td>\n",
       "      <td>-0.3</td>\n",
       "      <td>39.5</td>\n",
       "      <td>47.7</td>\n",
       "      <td>47.2</td>\n",
       "    </tr>\n",
       "    <tr>\n",
       "      <th>2</th>\n",
       "      <td>3MINDIA</td>\n",
       "      <td>Industrial Machinery</td>\n",
       "      <td>1.4</td>\n",
       "      <td>11.4</td>\n",
       "      <td>15.0</td>\n",
       "      <td>65.8</td>\n",
       "      <td>19.4</td>\n",
       "      <td>945.5</td>\n",
       "      <td>50.3</td>\n",
       "      <td>0.0</td>\n",
       "      <td>16.5</td>\n",
       "      <td>35.4</td>\n",
       "      <td>35147.1</td>\n",
       "      <td>878.4</td>\n",
       "      <td>2.5</td>\n",
       "      <td>72.2</td>\n",
       "      <td>65.8</td>\n",
       "    </tr>\n",
       "    <tr>\n",
       "      <th>3</th>\n",
       "      <td>5PAISA</td>\n",
       "      <td>Capital Markets</td>\n",
       "      <td>0.1</td>\n",
       "      <td>12.9</td>\n",
       "      <td>25.3</td>\n",
       "      <td>217.2</td>\n",
       "      <td>13.9</td>\n",
       "      <td>0.0</td>\n",
       "      <td>22.1</td>\n",
       "      <td>0.0</td>\n",
       "      <td>10.6</td>\n",
       "      <td>16.6</td>\n",
       "      <td>1378.6</td>\n",
       "      <td>7.1</td>\n",
       "      <td>7.2</td>\n",
       "      <td>54.2</td>\n",
       "      <td>52.9</td>\n",
       "    </tr>\n",
       "    <tr>\n",
       "      <th>4</th>\n",
       "      <td>63MOONS</td>\n",
       "      <td>IT Consulting &amp; Software</td>\n",
       "      <td>0.5</td>\n",
       "      <td>-7.5</td>\n",
       "      <td>-6.7</td>\n",
       "      <td>69.3</td>\n",
       "      <td>74.8</td>\n",
       "      <td>193.2</td>\n",
       "      <td>36.4</td>\n",
       "      <td>0.0</td>\n",
       "      <td>-1.9</td>\n",
       "      <td>2.0</td>\n",
       "      <td>1538.8</td>\n",
       "      <td>24.7</td>\n",
       "      <td>7.4</td>\n",
       "      <td>65.2</td>\n",
       "      <td>66.4</td>\n",
       "    </tr>\n",
       "    <tr>\n",
       "      <th>...</th>\n",
       "      <td>...</td>\n",
       "      <td>...</td>\n",
       "      <td>...</td>\n",
       "      <td>...</td>\n",
       "      <td>...</td>\n",
       "      <td>...</td>\n",
       "      <td>...</td>\n",
       "      <td>...</td>\n",
       "      <td>...</td>\n",
       "      <td>...</td>\n",
       "      <td>...</td>\n",
       "      <td>...</td>\n",
       "      <td>...</td>\n",
       "      <td>...</td>\n",
       "      <td>...</td>\n",
       "      <td>...</td>\n",
       "      <td>...</td>\n",
       "    </tr>\n",
       "    <tr>\n",
       "      <th>1178</th>\n",
       "      <td>ZOMATO</td>\n",
       "      <td>Internet Software &amp; Services</td>\n",
       "      <td>-4.4</td>\n",
       "      <td>-13.7</td>\n",
       "      <td>-15.6</td>\n",
       "      <td>19.6</td>\n",
       "      <td>65.6</td>\n",
       "      <td>0.0</td>\n",
       "      <td>51.8</td>\n",
       "      <td>0.0</td>\n",
       "      <td>-9.1</td>\n",
       "      <td>-4.8</td>\n",
       "      <td>83635.2</td>\n",
       "      <td>3.2</td>\n",
       "      <td>5.5</td>\n",
       "      <td>70.0</td>\n",
       "      <td>64.2</td>\n",
       "    </tr>\n",
       "    <tr>\n",
       "      <th>1179</th>\n",
       "      <td>ZUARI</td>\n",
       "      <td>Agrochemicals</td>\n",
       "      <td>0.0</td>\n",
       "      <td>9.7</td>\n",
       "      <td>7.1</td>\n",
       "      <td>265.4</td>\n",
       "      <td>27.3</td>\n",
       "      <td>106.5</td>\n",
       "      <td>39.9</td>\n",
       "      <td>0.4</td>\n",
       "      <td>15.2</td>\n",
       "      <td>12.2</td>\n",
       "      <td>676.9</td>\n",
       "      <td>1.4</td>\n",
       "      <td>20.8</td>\n",
       "      <td>58.0</td>\n",
       "      <td>55.4</td>\n",
       "    </tr>\n",
       "    <tr>\n",
       "      <th>1180</th>\n",
       "      <td>ZUARIIND</td>\n",
       "      <td>Sugar</td>\n",
       "      <td>-0.9</td>\n",
       "      <td>-7.8</td>\n",
       "      <td>2.4</td>\n",
       "      <td>954.9</td>\n",
       "      <td>20.1</td>\n",
       "      <td>167.9</td>\n",
       "      <td>16.6</td>\n",
       "      <td>0.7</td>\n",
       "      <td>4.4</td>\n",
       "      <td>4.3</td>\n",
       "      <td>428.4</td>\n",
       "      <td>-2.7</td>\n",
       "      <td>24.2</td>\n",
       "      <td>39.7</td>\n",
       "      <td>38.6</td>\n",
       "    </tr>\n",
       "    <tr>\n",
       "      <th>1181</th>\n",
       "      <td>ZYDUSLIFE</td>\n",
       "      <td>Pharmaceuticals</td>\n",
       "      <td>-0.6</td>\n",
       "      <td>11.6</td>\n",
       "      <td>22.2</td>\n",
       "      <td>-56.3</td>\n",
       "      <td>12.5</td>\n",
       "      <td>369.3</td>\n",
       "      <td>38.9</td>\n",
       "      <td>0.0</td>\n",
       "      <td>14.3</td>\n",
       "      <td>16.4</td>\n",
       "      <td>62144.3</td>\n",
       "      <td>3.5</td>\n",
       "      <td>8.2</td>\n",
       "      <td>46.9</td>\n",
       "      <td>45.6</td>\n",
       "    </tr>\n",
       "    <tr>\n",
       "      <th>1182</th>\n",
       "      <td>ZYDUSWELL</td>\n",
       "      <td>Packaged Foods</td>\n",
       "      <td>-3.7</td>\n",
       "      <td>13.8</td>\n",
       "      <td>14.9</td>\n",
       "      <td>0.5</td>\n",
       "      <td>11.9</td>\n",
       "      <td>208.1</td>\n",
       "      <td>67.6</td>\n",
       "      <td>0.0</td>\n",
       "      <td>6.7</td>\n",
       "      <td>6.2</td>\n",
       "      <td>10394.0</td>\n",
       "      <td>41.0</td>\n",
       "      <td>8.8</td>\n",
       "      <td>62.2</td>\n",
       "      <td>64.5</td>\n",
       "    </tr>\n",
       "  </tbody>\n",
       "</table>\n",
       "<p>1183 rows × 17 columns</p>\n",
       "</div>"
      ],
      "text/plain": [
       "       NSE code                 Industry Name  PEG TTM PE to Growth  \\\n",
       "0        360ONE      Other Financial Services                   2.3   \n",
       "1     3IINFOLTD      IT Consulting & Software                  -0.6   \n",
       "2       3MINDIA          Industrial Machinery                   1.4   \n",
       "3        5PAISA               Capital Markets                   0.1   \n",
       "4       63MOONS      IT Consulting & Software                   0.5   \n",
       "...         ...                           ...                   ...   \n",
       "1178     ZOMATO  Internet Software & Services                  -4.4   \n",
       "1179      ZUARI                 Agrochemicals                   0.0   \n",
       "1180   ZUARIIND                         Sugar                  -0.9   \n",
       "1181  ZYDUSLIFE               Pharmaceuticals                  -0.6   \n",
       "1182  ZYDUSWELL                Packaged Foods                  -3.7   \n",
       "\n",
       "      Net Profit Margin Annual %  Operating Profit Margin Annual %  \\\n",
       "0                           33.3                              58.5   \n",
       "1                            0.2                               4.4   \n",
       "2                           11.4                              15.0   \n",
       "3                           12.9                              25.3   \n",
       "4                           -7.5                              -6.7   \n",
       "...                          ...                               ...   \n",
       "1178                       -13.7                             -15.6   \n",
       "1179                         9.7                               7.1   \n",
       "1180                        -7.8                               2.4   \n",
       "1181                        11.6                              22.2   \n",
       "1182                        13.8                              14.9   \n",
       "\n",
       "      Net Profit Annual YoY Growth %  Revenue Growth Annual YoY %  \\\n",
       "0                               13.9                         -0.7   \n",
       "1                              102.4                          6.8   \n",
       "2                               65.8                         19.4   \n",
       "3                              217.2                         13.9   \n",
       "4                               69.3                         74.8   \n",
       "...                              ...                          ...   \n",
       "1178                            19.6                         65.6   \n",
       "1179                           265.4                         27.3   \n",
       "1180                           954.9                         20.1   \n",
       "1181                           -56.3                         12.5   \n",
       "1182                             0.5                         11.9   \n",
       "\n",
       "      10Yr price change %  Industry PE TTM  Long Term Debt To Equity Annual  \\\n",
       "0                     0.0             27.7                              2.1   \n",
       "1                   720.0             36.4                              0.0   \n",
       "2                   945.5             50.3                              0.0   \n",
       "3                     0.0             22.1                              0.0   \n",
       "4                   193.2             36.4                              0.0   \n",
       "...                   ...              ...                              ...   \n",
       "1178                  0.0             51.8                              0.0   \n",
       "1179                106.5             39.9                              0.4   \n",
       "1180                167.9             16.6                              0.7   \n",
       "1181                369.3             38.9                              0.0   \n",
       "1182                208.1             67.6                              0.0   \n",
       "\n",
       "      ROCE Annual 1Yr Ago %  ROCE Annual %  Market Capitalization in Cr  \\\n",
       "0                      12.6           12.8                      17064.4   \n",
       "1                      -2.9            2.6                        552.6   \n",
       "2                      16.5           35.4                      35147.1   \n",
       "3                      10.6           16.6                       1378.6   \n",
       "4                      -1.9            2.0                       1538.8   \n",
       "...                     ...            ...                          ...   \n",
       "1178                   -9.1           -4.8                      83635.2   \n",
       "1179                   15.2           12.2                        676.9   \n",
       "1180                    4.4            4.3                        428.4   \n",
       "1181                   14.3           16.4                      62144.3   \n",
       "1182                    6.7            6.2                      10394.0   \n",
       "\n",
       "       MACD  % Distance from 52week high  Previous Day RSI   RSI  \n",
       "0       0.6                         12.4              49.3  37.0  \n",
       "1      -0.3                         39.5              47.7  47.2  \n",
       "2     878.4                          2.5              72.2  65.8  \n",
       "3       7.1                          7.2              54.2  52.9  \n",
       "4      24.7                          7.4              65.2  66.4  \n",
       "...     ...                          ...               ...   ...  \n",
       "1178    3.2                          5.5              70.0  64.2  \n",
       "1179    1.4                         20.8              58.0  55.4  \n",
       "1180   -2.7                         24.2              39.7  38.6  \n",
       "1181    3.5                          8.2              46.9  45.6  \n",
       "1182   41.0                          8.8              62.2  64.5  \n",
       "\n",
       "[1183 rows x 17 columns]"
      ]
     },
     "execution_count": 8,
     "metadata": {},
     "output_type": "execute_result"
    }
   ],
   "source": [
    "# Read the raw data and parse into DataFrame\n",
    "df_raw = pd.read_csv(data_file)\n",
    "df = df_raw.drop(cols_to_drop, axis=1)\n",
    "\n",
    "# This step requires much more thought. Ideally we should fill missing values with the industry average\n",
    "df = df.fillna(0)\n",
    "df"
   ]
  },
  {
   "cell_type": "code",
   "execution_count": 9,
   "id": "5fe9d4b5",
   "metadata": {},
   "outputs": [
    {
     "data": {
      "text/plain": [
       "array([0.72198769, 0.14233022])"
      ]
     },
     "execution_count": 9,
     "metadata": {},
     "output_type": "execute_result"
    }
   ],
   "source": [
    "# Normalize the data and parse into vectors and labels\n",
    "X = normalize(df.iloc[:, 2:])\n",
    "labels = df.iloc[:,0]\n",
    "groups = df.iloc[:,1]\n",
    "\n",
    "# Perform PCA\n",
    "pca = PCA(n_components=2)\n",
    "transformed = pca.fit_transform(X)\n",
    "pca.explained_variance_ratio_"
   ]
  },
  {
   "cell_type": "code",
   "execution_count": 10,
   "id": "94c5469f",
   "metadata": {},
   "outputs": [
    {
     "data": {
      "text/plain": [
       "116"
      ]
     },
     "execution_count": 10,
     "metadata": {},
     "output_type": "execute_result"
    }
   ],
   "source": [
    "df['Industry Name'].nunique()"
   ]
  },
  {
   "cell_type": "code",
   "execution_count": 11,
   "id": "b9222055",
   "metadata": {},
   "outputs": [
    {
     "ename": "NameError",
     "evalue": "name 'targets' is not defined",
     "output_type": "error",
     "traceback": [
      "\u001b[0;31m---------------------------------------------------------------------------\u001b[0m",
      "\u001b[0;31mNameError\u001b[0m                                 Traceback (most recent call last)",
      "\u001b[0;32m<ipython-input-11-40de4a8466b7>\u001b[0m in \u001b[0;36m<module>\u001b[0;34m\u001b[0m\n\u001b[1;32m      8\u001b[0m \u001b[0mplt\u001b[0m\u001b[0;34m.\u001b[0m\u001b[0mscatter\u001b[0m\u001b[0;34m(\u001b[0m\u001b[0mx\u001b[0m\u001b[0;34m,\u001b[0m\u001b[0my\u001b[0m\u001b[0;34m,\u001b[0m \u001b[0mc\u001b[0m\u001b[0;34m=\u001b[0m\u001b[0;34m'b'\u001b[0m\u001b[0;34m,\u001b[0m \u001b[0ms\u001b[0m\u001b[0;34m=\u001b[0m\u001b[0;36m100\u001b[0m\u001b[0;34m,\u001b[0m \u001b[0malpha\u001b[0m\u001b[0;34m=\u001b[0m\u001b[0;36m.5\u001b[0m\u001b[0;34m)\u001b[0m\u001b[0;34m\u001b[0m\u001b[0;34m\u001b[0m\u001b[0m\n\u001b[1;32m      9\u001b[0m \u001b[0;32mfor\u001b[0m \u001b[0mi\u001b[0m\u001b[0;34m,\u001b[0m \u001b[0ml\u001b[0m \u001b[0;32min\u001b[0m \u001b[0menumerate\u001b[0m\u001b[0;34m(\u001b[0m\u001b[0mlabels\u001b[0m\u001b[0;34m)\u001b[0m\u001b[0;34m:\u001b[0m\u001b[0;34m\u001b[0m\u001b[0;34m\u001b[0m\u001b[0m\n\u001b[0;32m---> 10\u001b[0;31m     \u001b[0mplt\u001b[0m\u001b[0;34m.\u001b[0m\u001b[0mtext\u001b[0m\u001b[0;34m(\u001b[0m\u001b[0mx\u001b[0m\u001b[0;34m[\u001b[0m\u001b[0mi\u001b[0m\u001b[0;34m]\u001b[0m\u001b[0;34m+\u001b[0m\u001b[0;36m.0003\u001b[0m\u001b[0;34m,\u001b[0m\u001b[0my\u001b[0m\u001b[0;34m[\u001b[0m\u001b[0mi\u001b[0m\u001b[0;34m]\u001b[0m\u001b[0;34m-\u001b[0m\u001b[0;36m.0001\u001b[0m\u001b[0;34m,\u001b[0m \u001b[0;34m'{}: {}'\u001b[0m\u001b[0;34m.\u001b[0m\u001b[0mformat\u001b[0m\u001b[0;34m(\u001b[0m\u001b[0mtargets\u001b[0m\u001b[0;34m[\u001b[0m\u001b[0mi\u001b[0m\u001b[0;34m]\u001b[0m\u001b[0;34m.\u001b[0m\u001b[0mtitle\u001b[0m\u001b[0;34m(\u001b[0m\u001b[0;34m)\u001b[0m\u001b[0;34m,\u001b[0m \u001b[0mlabels\u001b[0m\u001b[0;34m[\u001b[0m\u001b[0mi\u001b[0m\u001b[0;34m]\u001b[0m\u001b[0;34m)\u001b[0m\u001b[0;34m)\u001b[0m\u001b[0;34m\u001b[0m\u001b[0;34m\u001b[0m\u001b[0m\n\u001b[0m\u001b[1;32m     11\u001b[0m \u001b[0;32mfor\u001b[0m \u001b[0mi\u001b[0m\u001b[0;34m,\u001b[0m \u001b[0mc\u001b[0m \u001b[0;32min\u001b[0m \u001b[0menumerate\u001b[0m\u001b[0;34m(\u001b[0m\u001b[0mpca\u001b[0m\u001b[0;34m.\u001b[0m\u001b[0mcomponents_\u001b[0m\u001b[0;34m.\u001b[0m\u001b[0mtranspose\u001b[0m\u001b[0;34m(\u001b[0m\u001b[0;34m)\u001b[0m\u001b[0;34m)\u001b[0m\u001b[0;34m:\u001b[0m\u001b[0;34m\u001b[0m\u001b[0;34m\u001b[0m\u001b[0m\n\u001b[1;32m     12\u001b[0m     \u001b[0mplt\u001b[0m\u001b[0;34m.\u001b[0m\u001b[0marrow\u001b[0m\u001b[0;34m(\u001b[0m\u001b[0;36m0\u001b[0m\u001b[0;34m,\u001b[0m\u001b[0;36m0\u001b[0m\u001b[0;34m,\u001b[0m \u001b[0mc\u001b[0m\u001b[0;34m[\u001b[0m\u001b[0;36m0\u001b[0m\u001b[0;34m]\u001b[0m\u001b[0;34m/\u001b[0m\u001b[0;36m50\u001b[0m\u001b[0;34m,\u001b[0m \u001b[0mc\u001b[0m\u001b[0;34m[\u001b[0m\u001b[0;36m1\u001b[0m\u001b[0;34m]\u001b[0m\u001b[0;34m/\u001b[0m\u001b[0;36m50\u001b[0m\u001b[0;34m,\u001b[0m \u001b[0malpha\u001b[0m\u001b[0;34m=\u001b[0m\u001b[0;36m.1\u001b[0m\u001b[0;34m,\u001b[0m \u001b[0mwidth\u001b[0m\u001b[0;34m=\u001b[0m\u001b[0;36m.00001\u001b[0m\u001b[0;34m)\u001b[0m\u001b[0;34m\u001b[0m\u001b[0;34m\u001b[0m\u001b[0m\n",
      "\u001b[0;31mNameError\u001b[0m: name 'targets' is not defined"
     ]
    },
    {
     "data": {
      "image/png": "[encoded data removed]",
      "text/plain": [
       "<Figure size 1080x720 with 1 Axes>"
      ]
     },
     "metadata": {
      "needs_background": "light"
     },
     "output_type": "display_data"
    }
   ],
   "source": [
    "x = transformed[:,0]\n",
    "y = transformed[:,1]\n",
    "\n",
    "\n",
    "#col_dict = {0:'red', 1:'blue', 2:'green'}\n",
    "#cols = [col_dict[l] for l in kmeans.labels_]\n",
    "plt.figure(figsize=(15,10))\n",
    "plt.scatter(x,y, c='b', s=100, alpha=.5)\n",
    "for i, l in enumerate(labels):\n",
    "    plt.text(x[i]+.0003,y[i]-.0001, '{}: {}'.format(targets[i].title(), labels[i]))\n",
    "for i, c in enumerate(pca.components_.transpose()):\n",
    "    plt.arrow(0,0, c[0]/50, c[1]/50, alpha=.1, width=.00001)\n",
    "    plt.text(c[0]/50, c[1]/50, features[i])\n",
    "plt.xlabel('PC1')\n",
    "plt.ylabel('PC2')\n",
    "plt.title('Austen and Alcott')\n",
    "plt.show()"
   ]
  },
  {
   "cell_type": "markdown",
   "id": "10593bde-c286-4c22-a0a9-e26e57564bb3",
   "metadata": {},
   "source": [
    "### Can we save metadata to CSVs"
   ]
  },
  {
   "cell_type": "code",
   "execution_count": 12,
   "id": "9120bef0",
   "metadata": {},
   "outputs": [],
   "source": [
    "d = pd.read_csv('/Users/anupam/Desktop/Server/market_data/TIME_SERIES_DAILY.BSE/3MINDIA.csv')"
   ]
  },
  {
   "cell_type": "code",
   "execution_count": 13,
   "id": "56c7835b",
   "metadata": {},
   "outputs": [],
   "source": [
    "# initialize list of lists \n",
    "data = [['tom', 10], ['nick', 15], ['juli', 14]] \n",
    "  \n",
    "# Create the pandas DataFrame \n",
    "d = pd.DataFrame(data, columns=['Name', 'Age']) \n",
    "d.PriceType = 'Unadjusted'"
   ]
  },
  {
   "cell_type": "code",
   "execution_count": null,
   "id": "bb3cbc06",
   "metadata": {},
   "outputs": [],
   "source": [
    "with open('/Users/anupam/Downloads/test.csv', 'w') as f:\n",
    "    f.write('#P,Q\\n')\n",
    "    d.to_csv(f)"
   ]
  },
  {
   "cell_type": "code",
   "execution_count": null,
   "id": "9053a4dc",
   "metadata": {},
   "outputs": [],
   "source": [
    "d1 = pd.read_csv('/Users/anupam/Downloads/test.csv')"
   ]
  },
  {
   "cell_type": "code",
   "execution_count": null,
   "id": "ee1d9df3",
   "metadata": {},
   "outputs": [],
   "source": [
    "d1"
   ]
  },
  {
   "cell_type": "code",
   "execution_count": null,
   "id": "15846905",
   "metadata": {},
   "outputs": [],
   "source": [
    "a = (2,) #[1,2,3]\n",
    "print(**a)"
   ]
  },
  {
   "cell_type": "code",
   "execution_count": null,
   "id": "548af781",
   "metadata": {},
   "outputs": [],
   "source": [
    "def test(**kwargs):\n",
    "    k, v = kwargs.values()\n",
    "    print(k)\n",
    "    #test1()\n",
    "    \n",
    "def test1(**kwargs):\n",
    "    print(kwargs)\n",
    "    \n",
    "test(q=12, w=\"qwer\")"
   ]
  },
  {
   "cell_type": "code",
   "execution_count": null,
   "id": "3bff4e82",
   "metadata": {},
   "outputs": [],
   "source": [
    "import datapipeline"
   ]
  },
  {
   "cell_type": "code",
   "execution_count": null,
   "id": "0ae6630e",
   "metadata": {},
   "outputs": [],
   "source": [
    "dp = DataPipeLineCSV('qw','we')"
   ]
  },
  {
   "cell_type": "code",
   "execution_count": null,
   "id": "e8e7dd7c",
   "metadata": {},
   "outputs": [],
   "source": [
    "import matplotlib.pyplot as plt "
   ]
  },
  {
   "cell_type": "code",
   "execution_count": 2,
   "id": "46ddca7f",
   "metadata": {},
   "outputs": [
    {
     "ename": "ModuleNotFoundError",
     "evalue": "No module named 'numpy'",
     "output_type": "error",
     "traceback": [
      "\u001b[0;31m---------------------------------------------------------------------------\u001b[0m",
      "\u001b[0;31mModuleNotFoundError\u001b[0m                       Traceback (most recent call last)",
      "\u001b[0;32m<ipython-input-2-d4cdadb62aa7>\u001b[0m in \u001b[0;36m<module>\u001b[0;34m\u001b[0m\n\u001b[0;32m----> 1\u001b[0;31m \u001b[0;32mimport\u001b[0m \u001b[0mnumpy\u001b[0m\u001b[0;34m\u001b[0m\u001b[0;34m\u001b[0m\u001b[0m\n\u001b[0m",
      "\u001b[0;31mModuleNotFoundError\u001b[0m: No module named 'numpy'"
     ]
    }
   ],
   "source": [
    "import numpy"
   ]
  },
  {
   "cell_type": "code",
   "execution_count": 2,
   "id": "7edd1a53",
   "metadata": {},
   "outputs": [
    {
     "name": "stdout",
     "output_type": "stream",
     "text": [
      "Collecting numpy\n",
      "  Obtaining dependency information for numpy from https://files.pythonhosted.org/packages/d2/97/ef9a9cfabbf97092475dda30179bcd86b261e678d8968003f7e8effc4fdd/numpy-1.26.1-cp39-cp39-macosx_10_9_x86_64.whl.metadata\n",
      "  Downloading numpy-1.26.1-cp39-cp39-macosx_10_9_x86_64.whl.metadata (61 kB)\n",
      "\u001b[2K     \u001b[38;2;114;156;31m━━━━━━━━━━━━━━━━━━━━━━━━━━━━━━━━━━━━━━━\u001b[0m \u001b[32m61.2/61.2 kB\u001b[0m \u001b[31m713.4 kB/s\u001b[0m eta \u001b[36m0:00:00\u001b[0mMB/s\u001b[0m eta \u001b[36m0:00:01\u001b[0m\n",
      "\u001b[?25hDownloading numpy-1.26.1-cp39-cp39-macosx_10_9_x86_64.whl (20.6 MB)\n",
      "\u001b[2K   \u001b[38;2;114;156;31m━━━━━━━━━━━━━━━━━━━━━━━━━━━━━━━━━━━━━━━━\u001b[0m \u001b[32m20.6/20.6 MB\u001b[0m \u001b[31m800.8 kB/s\u001b[0m eta \u001b[36m0:00:00\u001b[0mm eta \u001b[36m0:00:01\u001b[0m[36m0:00:01\u001b[0m\n",
      "\u001b[?25hInstalling collected packages: numpy\n",
      "\u001b[33m  WARNING: The script f2py is installed in '/Users/anupam/Library/Python/3.9/bin' which is not on PATH.\n",
      "  Consider adding this directory to PATH or, if you prefer to suppress this warning, use --no-warn-script-location.\u001b[0m\u001b[33m\n",
      "\u001b[0mSuccessfully installed numpy-1.26.1\n"
     ]
    }
   ],
   "source": [
    "import sys\n",
    "!{sys.executable} -m pip install --user numpy"
   ]
  },
  {
   "cell_type": "code",
   "execution_count": 1,
   "id": "2206f71d-8c38-4411-8fa3-8513da83905c",
   "metadata": {},
   "outputs": [],
   "source": [
    "import numpy\n"
   ]
  },
  {
   "cell_type": "code",
   "execution_count": null,
   "id": "8435b9cb-0a79-4bbf-b599-64e03d2405dc",
   "metadata": {},
   "outputs": [],
   "source": []
  }
 ],
 "metadata": {
  "kernelspec": {
   "display_name": "Python 3",
   "language": "python",
   "name": "python3"
  },
  "language_info": {
   "codemirror_mode": {
    "name": "ipython",
    "version": 3
   },
   "file_extension": ".py",
   "mimetype": "text/x-python",
   "name": "python",
   "nbconvert_exporter": "python",
   "pygments_lexer": "ipython3",
   "version": "3.9.18"
  }
 },
 "nbformat": 4,
 "nbformat_minor": 5
}
