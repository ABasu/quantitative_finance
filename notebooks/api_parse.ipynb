{
 "cells": [
  {
   "cell_type": "code",
   "execution_count": 1,
   "id": "3b84f27e",
   "metadata": {},
   "outputs": [],
   "source": [
    "import logging, os, re\n",
    "\n",
    "import pandas as pd\n",
    "import numpy as np\n",
    "\n",
    "logging.basicConfig(format = '%(asctime)-25s %(message)s', level = logging.INFO)"
   ]
  },
  {
   "cell_type": "code",
   "execution_count": 4,
   "id": "fbcdfc42",
   "metadata": {},
   "outputs": [
    {
     "name": "stderr",
     "output_type": "stream",
     "text": [
      "2023-08-30 14:34:03,246   TSLA: Downloading TIME_SERIES_INTRADAY: 2020-12\n",
      "2023-08-30 14:34:03,471   Pausing for 5 secs.\n",
      "2023-08-30 14:34:08,477   TSLA: Downloading TIME_SERIES_INTRADAY: 2021-01\n",
      "2023-08-30 14:34:14,182   Pausing for 5 secs.\n",
      "2023-08-30 14:34:19,184   TSLA: Downloading TIME_SERIES_INTRADAY: 2021-02\n",
      "2023-08-30 14:34:20,526   Pausing for 5 secs.\n"
     ]
    }
   ],
   "source": [
    "import sys\n",
    "sys.path.append('./markets_lib/')\n",
    "import alphavantage as av\n",
    "\n",
    "api_key = av.get_api_key(config_file='./markets_lib/apikey.cfg')\n",
    "\n",
    "#r = av.call_api('TSLA', 'TIME_SERIES_DAILY', api_key, parameters={})\n",
    "r = av.call_api('TSLA', 'TIME_SERIES_INTRADAY', api_key, parameters={'pause_between_queries':5, 'interval':'60min', 'month_start':'2020_12', 'month_end':'2021_02'})"
   ]
  },
  {
   "cell_type": "code",
   "execution_count": 22,
   "id": "5ec38147",
   "metadata": {},
   "outputs": [
    {
     "data": {
      "text/plain": [
       "'TSLA.BSE'"
      ]
     },
     "execution_count": 22,
     "metadata": {},
     "output_type": "execute_result"
    }
   ],
   "source": [
    "'.'.join(['TSLA', 'BSE']).strip('.')"
   ]
  },
  {
   "cell_type": "code",
   "execution_count": null,
   "id": "df5e64d5",
   "metadata": {},
   "outputs": [],
   "source": [
    "df = {\"Time Series (Daily)\": {\n",
    "        \"2023-08-29\": {\n",
    "            \"1. open\": \"146.3\",\n",
    "            \"2. high\": \"146.73\",\n",
    "            \"3. low\": \"145.62\",\n",
    "            \"4. close\": \"146.45\",\n",
    "            \"5. adjusted close\": \"146.45\",\n",
    "            \"6. volume\": \"2778113\",\n",
    "            \"7. dividend amount\": \"0.0000\",\n",
    "            \"8. split coefficient\": \"1.0\"\n",
    "        },\n",
    "        \"2023-08-28\": {\n",
    "            \"1. open\": \"145.41\",\n",
    "            \"2. high\": \"146.74\",\n",
    "            \"3. low\": \"145.21\",\n",
    "            \"4. close\": \"146.02\",\n",
    "            \"5. adjusted close\": \"146.02\",\n",
    "            \"6. volume\": \"3561347\",\n",
    "            \"7. dividend amount\": \"0.0000\",\n",
    "            \"8. split coefficient\": \"1.0\"\n",
    "        },\n",
    "        \"2023-08-25\": {\n",
    "            \"1. open\": \"144.18\",\n",
    "            \"2. high\": \"145.47\",\n",
    "            \"3. low\": \"143.5\",\n",
    "            \"4. close\": \"145.35\",\n",
    "            \"5. adjusted close\": \"145.35\",\n",
    "            \"6. volume\": \"3660147\",\n",
    "            \"7. dividend amount\": \"0.0000\",\n",
    "            \"8. split coefficient\": \"1.0\"\n",
    "        }\n",
    "}}\n",
    "\n",
    "pd.DataFrame.from_dict(df[list(df.keys())[0]], orient='index')"
   ]
  },
  {
   "cell_type": "markdown",
   "id": "e0df33ea",
   "metadata": {},
   "source": [
    "# Clean data from https://stockanalysis.com/stocks/\n",
    "\n",
    "* Clean up data and save to CSV.\n",
    "* Uncomment the last line to write CSV file. \n",
    "* Tickers without market cap are printed out (Mkt Cap set to 0)"
   ]
  },
  {
   "cell_type": "code",
   "execution_count": null,
   "id": "4f8e5a15",
   "metadata": {
    "scrolled": false
   },
   "outputs": [],
   "source": [
    "stocks = '../data/sac_tickers_raw.csv'\n",
    "stocks = open(stocks, 'r').readlines()\n",
    "columns = [s.strip() for s in stocks[0].split('\\t')]\n",
    "\n",
    "parsed_data = []\n",
    "for start in range(1,len(stocks)-2, 2):\n",
    "    stock = stocks[start:start+2]\n",
    "    parsed = stock[0].split('\\t')[:-1]\n",
    "    parsed[0] = parsed[0].replace('.', '-')\n",
    "    mkt_cap = stock[1].strip()\n",
    "    try:\n",
    "        mkt_cap = round(float(mkt_cap[:-1].replace(',',''))*(1000 if mkt_cap[-1]=='B' else 1))\n",
    "    except ValueError:\n",
    "        print(parsed, mkt_cap)\n",
    "        mkt_cap = 0\n",
    "    parsed.append(mkt_cap)\n",
    "    parsed_data.append(tuple(parsed))\n",
    "\n",
    "df = pd.DataFrame(parsed_data, columns=columns)\n",
    "df = df.set_index('Symbol')\n",
    "#df.to_csv('../data/sac_tickers.csv')"
   ]
  },
  {
   "cell_type": "markdown",
   "id": "20f38d9b",
   "metadata": {},
   "source": [
    "### Find tickers in StockAnalysisCom NOT in AV"
   ]
  },
  {
   "cell_type": "code",
   "execution_count": null,
   "id": "be03116b",
   "metadata": {
    "scrolled": true
   },
   "outputs": [],
   "source": [
    "sac = pd.read_csv('../data/sac_tickers.csv')\n",
    "av = pd.read_csv('../data/av_listed_tickers.csv')\n",
    "\n",
    "mask = [not any(av['Symbol'].str.contains(s)) for s in sac['Symbol']]\n",
    "sac[mask]"
   ]
  },
  {
   "cell_type": "markdown",
   "id": "a2892646",
   "metadata": {},
   "source": [
    "### GroupBy Industry (also identify how many companies have n/a for Industry)"
   ]
  },
  {
   "cell_type": "code",
   "execution_count": null,
   "id": "438ff3a6",
   "metadata": {
    "scrolled": true
   },
   "outputs": [],
   "source": [
    "industries = sac.groupby('Industry', as_index=False, dropna=False).count()\n",
    "print(industries.to_string())\n",
    "\n",
    "sac[sac['Industry'].isnull()]"
   ]
  },
  {
   "cell_type": "markdown",
   "id": "1aa91207",
   "metadata": {},
   "source": [
    "### Get all tickers in an industry sorted by market capitalization"
   ]
  },
  {
   "cell_type": "code",
   "execution_count": null,
   "id": "8d98b1ce",
   "metadata": {},
   "outputs": [],
   "source": [
    "industry = 'Auto Manufacturers'\n",
    "print(sac[sac['Industry']==industry].sort_values(by=['Market Cap'], ascending=False).to_string())"
   ]
  },
  {
   "cell_type": "markdown",
   "id": "f0edd60c",
   "metadata": {},
   "source": [
    "### Large cap stocks > 10B"
   ]
  },
  {
   "cell_type": "code",
   "execution_count": null,
   "id": "74524ab1",
   "metadata": {},
   "outputs": [],
   "source": [
    "lg_cap = sac[sac['Market Cap']>10000]\n",
    "lg_cap = lg_cap.set_index('Symbol')\n",
    "lg_cap.to_csv('../data/sac_tickers_largecap.csv')\n",
    "lg_cap.sort_values(by=['Market Cap'], ascending=False)"
   ]
  },
  {
   "cell_type": "code",
   "execution_count": null,
   "id": "1e0eaf81",
   "metadata": {},
   "outputs": [],
   "source": [
    "mid_cap = sac[(sac['Market Cap']<10000) & (sac['Market Cap']>2000)]\n",
    "mid_cap = mid_cap.set_index('Symbol')\n",
    "mid_cap.to_csv('../data/sac_tickers_midcap.csv')\n",
    "mid_cap.sort_values(by=['Market Cap'], ascending=False)"
   ]
  },
  {
   "cell_type": "markdown",
   "id": "77254f5c",
   "metadata": {},
   "source": [
    "# Identify ETFs from AlphaVantage's master list"
   ]
  },
  {
   "cell_type": "code",
   "execution_count": null,
   "id": "a3144633",
   "metadata": {},
   "outputs": [],
   "source": [
    "av = pd.read_csv('../data/av_listed_tickers.csv')\n",
    "av"
   ]
  },
  {
   "cell_type": "code",
   "execution_count": null,
   "id": "d62f971a",
   "metadata": {},
   "outputs": [],
   "source": [
    "asset_types = av.groupby('AssetType', as_index=False, dropna=False).count()\n",
    "asset_types"
   ]
  },
  {
   "cell_type": "code",
   "execution_count": null,
   "id": "815af30f",
   "metadata": {},
   "outputs": [],
   "source": [
    "etfs = av[av['AssetType']=='ETF']\n",
    "etfs.to_csv('../data/av_listed_tickers_etfs_intraday_download.csv', index=False)\n",
    "etfs[etfs['Symbol']=='LABD']"
   ]
  },
  {
   "cell_type": "code",
   "execution_count": null,
   "id": "8048dd54",
   "metadata": {},
   "outputs": [],
   "source": [
    "etfs.groupby('Exchange', as_index=False, dropna=False).count()"
   ]
  },
  {
   "cell_type": "markdown",
   "id": "52651145",
   "metadata": {},
   "source": [
    "### Identify ETFs listed on NYSE and NASDAQ\n",
    "\n",
    "* Then Identify Vanguard ETFs NOT on NYSE or NASDAQ (only 10 - we ignore those)"
   ]
  },
  {
   "cell_type": "code",
   "execution_count": null,
   "id": "d9068a99",
   "metadata": {
    "scrolled": true
   },
   "outputs": [],
   "source": [
    "etfs_nn = etfs[(etfs['Exchange']=='NYSE')|(etfs['Exchange']=='NASDAQ')]\n",
    "etfs_nn = etfs_nn.set_index('Symbol')\n",
    "etfs_nn.sort_values(by=['Exchange'], ascending=True)\n",
    "#etfs_nn.to_csv('../data/av_listed_tickers_etfs.csv')"
   ]
  },
  {
   "cell_type": "markdown",
   "id": "8e3fa4e6",
   "metadata": {},
   "source": [
    "### Vanguard ETFs"
   ]
  },
  {
   "cell_type": "code",
   "execution_count": null,
   "id": "e3c81891",
   "metadata": {},
   "outputs": [],
   "source": [
    "vanguard_etfs = etfs[etfs['Name'].str.contains('Vanguard')]\n",
    "vanguard_etfs.groupby('Exchange', as_index=False, dropna=False).count()"
   ]
  },
  {
   "cell_type": "code",
   "execution_count": null,
   "id": "54312a51",
   "metadata": {},
   "outputs": [],
   "source": [
    "vanguard_etfs_not_nn = etfs[(etfs['Name'].str.contains('Vanguard'))&(etfs['Exchange']=='BATS')]\n",
    "vanguard_etfs_not_nn"
   ]
  },
  {
   "cell_type": "markdown",
   "id": "66c2c05f",
   "metadata": {},
   "source": [
    "### Extract list of tickers by sector\n",
    "\n",
    "* Find sector, given ticker\n",
    "* List all sectors\n",
    "* List tickers in a sector, sorted by cap\n",
    "* Eliminate ones that don't exist"
   ]
  },
  {
   "cell_type": "code",
   "execution_count": null,
   "id": "317daeb5",
   "metadata": {},
   "outputs": [],
   "source": [
    "ticker = 'FREYR'\n",
    "sac[sac['Symbol']==ticker]"
   ]
  },
  {
   "cell_type": "code",
   "execution_count": null,
   "id": "0eb521f8",
   "metadata": {},
   "outputs": [],
   "source": [
    "industries = sac.groupby('Industry', as_index=False, dropna=False).count().sort_values(by='Symbol', ascending=False).reset_index(drop=True)\n",
    "print(industries.to_string())"
   ]
  },
  {
   "cell_type": "code",
   "execution_count": null,
   "id": "914c93f2",
   "metadata": {},
   "outputs": [],
   "source": [
    "sector = 'Software'\n",
    "min_cap = 10000\n",
    "sector_df = sac[(sac['Industry']==sector) & (sac['Market Cap']>=min_cap)].sort_values(by='Market Cap', ascending=False).reset_index(drop=True)\n",
    "sector_df"
   ]
  },
  {
   "cell_type": "code",
   "execution_count": null,
   "id": "b9092f9f",
   "metadata": {},
   "outputs": [],
   "source": [
    "path = '/Users/anupam/Desktop/Server/market_data/TIME_SERIES_DAILY/'\n",
    "\n",
    "tickers = []\n",
    "for t in sector_df['Symbol']:\n",
    "    fpath = os.path.join(path, t+'.csv')\n",
    "    if os.path.exists(fpath):\n",
    "        tickers.append(t)\n",
    "    else:\n",
    "        print('File doesn\\'t exist for {}'.format(fpath))\n",
    "print(\"'{}'\".format(\"','\".join(tickers)))"
   ]
  },
  {
   "cell_type": "code",
   "execution_count": null,
   "id": "1a25c274",
   "metadata": {},
   "outputs": [],
   "source": []
  }
 ],
 "metadata": {
  "kernelspec": {
   "display_name": "Python 3",
   "language": "python",
   "name": "python3"
  },
  "language_info": {
   "codemirror_mode": {
    "name": "ipython",
    "version": 3
   },
   "file_extension": ".py",
   "mimetype": "text/x-python",
   "name": "python",
   "nbconvert_exporter": "python",
   "pygments_lexer": "ipython3",
   "version": "3.9.13"
  }
 },
 "nbformat": 4,
 "nbformat_minor": 5
}
